{
  "nbformat": 4,
  "nbformat_minor": 0,
  "metadata": {
    "colab": {
      "name": "Adaboost_RandomForest_ExtraTreesRegressor.ipynb",
      "provenance": [],
      "collapsed_sections": []
    },
    "kernelspec": {
      "name": "python3",
      "display_name": "Python 3"
    }
  },
  "cells": [
    {
      "cell_type": "code",
      "metadata": {
        "id": "PbWjPDI9IPQU",
        "colab_type": "code",
        "outputId": "cde2a785-b78e-4d30-cd69-bd6b2263dd37",
        "colab": {
          "base_uri": "https://localhost:8080/",
          "height": 71
        }
      },
      "source": [
        "%tensorflow_version 2.x\n",
        "from __future__ import absolute_import, division, print_function, unicode_literals\n",
        "import tensorflow as tf\n",
        "import pandas as pd\n",
        "import numpy as np\n",
        "import matplotlib.pyplot as plt\n",
        "import seaborn as sns\n",
        "import warnings\n",
        "warnings.filterwarnings('ignore')\n",
        "from tensorflow import keras\n",
        "from tensorflow.keras import layers\n",
        "import collections\n",
        "import logging\n",
        "logging.getLogger('googleapiclient.discovery_cache').setLevel(logging.ERROR)\n",
        "plt.rc_context({'xtick.color':'w', 'ytick.color':'w', 'text.color':'w', 'axes.labelcolor':'w'})\n",
        "from pydrive.auth import GoogleAuth \n",
        "from pydrive.drive import GoogleDrive\n",
        "from google.colab import auth\n",
        "from oauth2client.client import GoogleCredentials\n",
        "auth.authenticate_user()\n",
        "gauth = GoogleAuth()\n",
        "gauth.credentials = GoogleCredentials.get_application_default()\n",
        "drive = GoogleDrive(gauth)\n",
        "\n",
        "!pip install -q keras"
      ],
      "execution_count": 0,
      "outputs": [
        {
          "output_type": "stream",
          "text": [
            "/usr/local/lib/python3.6/dist-packages/statsmodels/tools/_testing.py:19: FutureWarning: pandas.util.testing is deprecated. Use the functions in the public API at pandas.testing instead.\n",
            "  import pandas.util.testing as tm\n"
          ],
          "name": "stderr"
        }
      ]
    },
    {
      "cell_type": "code",
      "metadata": {
        "id": "Z0z-hT4JUwRW",
        "colab_type": "code",
        "outputId": "0e80eb02-7dad-47d9-ea33-06bad3c5a7d7",
        "colab": {
          "base_uri": "https://localhost:8080/",
          "height": 34
        }
      },
      "source": [
        "from __future__ import absolute_import, division, print_function, unicode_literals\n",
        "\n",
        "import pathlib\n",
        "\n",
        "import collections\n",
        "import matplotlib.pyplot as plt\n",
        "import pandas as pd\n",
        "import seaborn as sns\n",
        "import tensorflow_hub as hub\n",
        "import tensorflow as tf\n",
        "\n",
        "from tensorflow import keras\n",
        "from tensorflow.keras import layers\n",
        "from numpy import array\n",
        "from numpy import hstack\n",
        "\n",
        "import tensorflow as tf\n",
        "import tensorflow_hub as hub\n",
        "import tensorflow_datasets as tfds\n",
        "#import resources from tensorflow.python.ops \n",
        "#import tensor_forest from tensorflow.contrib.tensor_forest.python\n",
        "\n",
        "from tensorflow.keras.models import Sequential\n",
        "from tensorflow.keras.layers import Dense, Embedding, Bidirectional, LSTM, Dropout, Conv1D, MaxPooling1D, GRU\n",
        "\n",
        "import numpy as np\n",
        "import matplotlib.pylab as plt\n",
        "import pandas as pd\n",
        "import matplotlib.pyplot as plt\n",
        "import math\n",
        "import os\n",
        "import sys\n",
        "import shutil\n",
        "import urllib.request\n",
        "import zipfile\n",
        "import warnings\n",
        "import smtplib\n",
        "import re\n",
        "from datetime import datetime\n",
        "from email.message import EmailMessage\n",
        "from pandas.plotting import scatter_matrix\n",
        "from sklearn.preprocessing import StandardScaler\n",
        "from sklearn.model_selection import train_test_split\n",
        "from sklearn.model_selection import KFold\n",
        "from sklearn.model_selection import StratifiedKFold\n",
        "from sklearn.model_selection import cross_val_score\n",
        "from sklearn.model_selection import GridSearchCV\n",
        "from sklearn.metrics import mean_squared_error\n",
        "from sklearn.metrics import r2_score\n",
        "from sklearn.pipeline import Pipeline\n",
        "from sklearn.feature_selection import RFE\n",
        "from imblearn.over_sampling import SMOTE\n",
        "from imblearn.combine import SMOTEENN\n",
        "from imblearn.combine import SMOTETomek\n",
        "\n",
        "from sklearn.linear_model import LinearRegression\n",
        "from sklearn.linear_model import Ridge\n",
        "from sklearn.linear_model import Lasso\n",
        "from sklearn.linear_model import ElasticNet\n",
        "from sklearn.tree import DecisionTreeRegressor\n",
        "from sklearn.neighbors import KNeighborsRegressor\n",
        "from sklearn.ensemble import RandomForestRegressor\n",
        "from sklearn.ensemble import ExtraTreesRegressor\n",
        "from sklearn.ensemble import AdaBoostRegressor\n",
        "from sklearn.ensemble import GradientBoostingRegressor\n",
        "from xgboost import XGBRegressor\n",
        "from sklearn.metrics import accuracy_score\n",
        "#dark mode\n",
        "plt.rc_context({'xtick.color':'w', 'ytick.color':'w', 'text.color':'w', 'axes.labelcolor':'w'})\n",
        "\n",
        "print(tf.__version__)"
      ],
      "execution_count": 0,
      "outputs": [
        {
          "output_type": "stream",
          "text": [
            "2.2.0-rc2\n"
          ],
          "name": "stdout"
        }
      ]
    },
    {
      "cell_type": "code",
      "metadata": {
        "id": "f0xrUjcGIY_g",
        "colab_type": "code",
        "colab": {}
      },
      "source": [
        "drive.ListFile({'q': \"'1EYL1Xky9v3LygcLztNjbxlpbc2RFmyon' in parents and trashed=false\"}).GetList()\n",
        "data_downloaded=drive.CreateFile({'id': '1AcUHDj2sdcehV5aTv-34GNc9Lo7_5-Tm'})\n",
        "data_downloaded.GetContentFile('Metro_Interstate_Traffic_Volume.csv')"
      ],
      "execution_count": 0,
      "outputs": []
    },
    {
      "cell_type": "code",
      "metadata": {
        "id": "O5F91RYeDqtb",
        "colab_type": "code",
        "outputId": "22b9e0e9-3736-4e6a-feef-4220b539170a",
        "colab": {
          "base_uri": "https://localhost:8080/",
          "height": 204
        }
      },
      "source": [
        "data=pd.read_csv('Metro_Interstate_Traffic_Volume.csv',low_memory=False, lineterminator='\\n')\n",
        "data.head()"
      ],
      "execution_count": 0,
      "outputs": [
        {
          "output_type": "execute_result",
          "data": {
            "text/html": [
              "<div>\n",
              "<style scoped>\n",
              "    .dataframe tbody tr th:only-of-type {\n",
              "        vertical-align: middle;\n",
              "    }\n",
              "\n",
              "    .dataframe tbody tr th {\n",
              "        vertical-align: top;\n",
              "    }\n",
              "\n",
              "    .dataframe thead th {\n",
              "        text-align: right;\n",
              "    }\n",
              "</style>\n",
              "<table border=\"1\" class=\"dataframe\">\n",
              "  <thead>\n",
              "    <tr style=\"text-align: right;\">\n",
              "      <th></th>\n",
              "      <th>holiday</th>\n",
              "      <th>temp</th>\n",
              "      <th>rain_1h</th>\n",
              "      <th>snow_1h</th>\n",
              "      <th>clouds_all</th>\n",
              "      <th>weather_main</th>\n",
              "      <th>weather_description</th>\n",
              "      <th>date_time</th>\n",
              "      <th>traffic_volume\\r</th>\n",
              "    </tr>\n",
              "  </thead>\n",
              "  <tbody>\n",
              "    <tr>\n",
              "      <th>0</th>\n",
              "      <td>None</td>\n",
              "      <td>288.28</td>\n",
              "      <td>0.0</td>\n",
              "      <td>0.0</td>\n",
              "      <td>40</td>\n",
              "      <td>Clouds</td>\n",
              "      <td>scattered clouds</td>\n",
              "      <td>2012-10-02 09:00:00</td>\n",
              "      <td>5545</td>\n",
              "    </tr>\n",
              "    <tr>\n",
              "      <th>1</th>\n",
              "      <td>None</td>\n",
              "      <td>289.36</td>\n",
              "      <td>0.0</td>\n",
              "      <td>0.0</td>\n",
              "      <td>75</td>\n",
              "      <td>Clouds</td>\n",
              "      <td>broken clouds</td>\n",
              "      <td>2012-10-02 10:00:00</td>\n",
              "      <td>4516</td>\n",
              "    </tr>\n",
              "    <tr>\n",
              "      <th>2</th>\n",
              "      <td>None</td>\n",
              "      <td>289.58</td>\n",
              "      <td>0.0</td>\n",
              "      <td>0.0</td>\n",
              "      <td>90</td>\n",
              "      <td>Clouds</td>\n",
              "      <td>overcast clouds</td>\n",
              "      <td>2012-10-02 11:00:00</td>\n",
              "      <td>4767</td>\n",
              "    </tr>\n",
              "    <tr>\n",
              "      <th>3</th>\n",
              "      <td>None</td>\n",
              "      <td>290.13</td>\n",
              "      <td>0.0</td>\n",
              "      <td>0.0</td>\n",
              "      <td>90</td>\n",
              "      <td>Clouds</td>\n",
              "      <td>overcast clouds</td>\n",
              "      <td>2012-10-02 12:00:00</td>\n",
              "      <td>5026</td>\n",
              "    </tr>\n",
              "    <tr>\n",
              "      <th>4</th>\n",
              "      <td>None</td>\n",
              "      <td>291.14</td>\n",
              "      <td>0.0</td>\n",
              "      <td>0.0</td>\n",
              "      <td>75</td>\n",
              "      <td>Clouds</td>\n",
              "      <td>broken clouds</td>\n",
              "      <td>2012-10-02 13:00:00</td>\n",
              "      <td>4918</td>\n",
              "    </tr>\n",
              "  </tbody>\n",
              "</table>\n",
              "</div>"
            ],
            "text/plain": [
              "  holiday    temp  ...            date_time  traffic_volume\\r\n",
              "0    None  288.28  ...  2012-10-02 09:00:00              5545\n",
              "1    None  289.36  ...  2012-10-02 10:00:00              4516\n",
              "2    None  289.58  ...  2012-10-02 11:00:00              4767\n",
              "3    None  290.13  ...  2012-10-02 12:00:00              5026\n",
              "4    None  291.14  ...  2012-10-02 13:00:00              4918\n",
              "\n",
              "[5 rows x 9 columns]"
            ]
          },
          "metadata": {
            "tags": []
          },
          "execution_count": 5
        }
      ]
    },
    {
      "cell_type": "code",
      "metadata": {
        "id": "wsEoLs6yQy_V",
        "colab_type": "code",
        "colab": {}
      },
      "source": [
        "df=data\n",
        "\n",
        "i=df.holiday.size\n",
        "cont=0\n",
        "while(cont != i):\n",
        "  if(df.holiday[cont] == 'None'):\n",
        "    df.holiday[cont] = 1\n",
        "  else:\n",
        "    df.holiday[cont] = 0\n",
        "  cont=cont+1\n",
        "\n",
        "df['holiday']=df['holiday'].astype(str).astype(int)\n",
        "df['weather_main'] = pd.Categorical(df['weather_main'])\n",
        "df['weather_main'] = df.weather_main.cat.codes\n",
        "df['weather_description'] = pd.Categorical(df['weather_description'])\n",
        "df['weather_description'] = df.weather_description.cat.codes\n",
        "df['date_time'] = pd.to_datetime(df.date_time)\n",
        "df['weekday'] = df.date_time.dt.weekday\n",
        "df['date'] = df.date_time.dt.date\n",
        "df['hour'] = df.date_time.dt.hour\n",
        "df['month'] = df.date_time.dt.month\n",
        "df['year'] = df.date_time.dt.year"
      ],
      "execution_count": 0,
      "outputs": []
    },
    {
      "cell_type": "code",
      "metadata": {
        "id": "tkiyptJVD40N",
        "colab_type": "code",
        "colab": {}
      },
      "source": [
        "def hour_modify(x):\n",
        "    Manana = [4,5,6,7,8,9,10,11]\n",
        "    Tarde = [12,13,14,15,16,17,18,19]\n",
        "    Noche = [20,21,22,23,24,1,2,3]\n",
        "    if x >= 4 and x < 12:\n",
        "        return 'Manana'\n",
        "    elif  x >= 12 and x < 20:\n",
        "        return 'Tarde'\n",
        "    elif x >= 20 or x < 4:\n",
        "        return 'Noche'\n",
        "    \n",
        "df['mtn'] = df.hour.map(hour_modify)"
      ],
      "execution_count": 0,
      "outputs": []
    },
    {
      "cell_type": "code",
      "metadata": {
        "id": "aKDJK7g3H8yS",
        "colab_type": "code",
        "outputId": "497541c6-c463-40d9-b429-6b7484121700",
        "colab": {
          "base_uri": "https://localhost:8080/",
          "height": 289
        }
      },
      "source": [
        "df.head()"
      ],
      "execution_count": 0,
      "outputs": [
        {
          "output_type": "execute_result",
          "data": {
            "text/html": [
              "<div>\n",
              "<style scoped>\n",
              "    .dataframe tbody tr th:only-of-type {\n",
              "        vertical-align: middle;\n",
              "    }\n",
              "\n",
              "    .dataframe tbody tr th {\n",
              "        vertical-align: top;\n",
              "    }\n",
              "\n",
              "    .dataframe thead th {\n",
              "        text-align: right;\n",
              "    }\n",
              "</style>\n",
              "<table border=\"1\" class=\"dataframe\">\n",
              "  <thead>\n",
              "    <tr style=\"text-align: right;\">\n",
              "      <th></th>\n",
              "      <th>holiday</th>\n",
              "      <th>temp</th>\n",
              "      <th>rain_1h</th>\n",
              "      <th>snow_1h</th>\n",
              "      <th>clouds_all</th>\n",
              "      <th>weather_main</th>\n",
              "      <th>weather_description</th>\n",
              "      <th>date_time</th>\n",
              "      <th>traffic_volume\\r</th>\n",
              "      <th>weekday</th>\n",
              "      <th>date</th>\n",
              "      <th>hour</th>\n",
              "      <th>month</th>\n",
              "      <th>year</th>\n",
              "      <th>mtn</th>\n",
              "    </tr>\n",
              "  </thead>\n",
              "  <tbody>\n",
              "    <tr>\n",
              "      <th>0</th>\n",
              "      <td>1</td>\n",
              "      <td>288.28</td>\n",
              "      <td>0.0</td>\n",
              "      <td>0.0</td>\n",
              "      <td>40</td>\n",
              "      <td>1</td>\n",
              "      <td>24</td>\n",
              "      <td>2012-10-02 09:00:00</td>\n",
              "      <td>5545</td>\n",
              "      <td>1</td>\n",
              "      <td>2012-10-02</td>\n",
              "      <td>9</td>\n",
              "      <td>10</td>\n",
              "      <td>2012</td>\n",
              "      <td>Manana</td>\n",
              "    </tr>\n",
              "    <tr>\n",
              "      <th>1</th>\n",
              "      <td>1</td>\n",
              "      <td>289.36</td>\n",
              "      <td>0.0</td>\n",
              "      <td>0.0</td>\n",
              "      <td>75</td>\n",
              "      <td>1</td>\n",
              "      <td>2</td>\n",
              "      <td>2012-10-02 10:00:00</td>\n",
              "      <td>4516</td>\n",
              "      <td>1</td>\n",
              "      <td>2012-10-02</td>\n",
              "      <td>10</td>\n",
              "      <td>10</td>\n",
              "      <td>2012</td>\n",
              "      <td>Manana</td>\n",
              "    </tr>\n",
              "    <tr>\n",
              "      <th>2</th>\n",
              "      <td>1</td>\n",
              "      <td>289.58</td>\n",
              "      <td>0.0</td>\n",
              "      <td>0.0</td>\n",
              "      <td>90</td>\n",
              "      <td>1</td>\n",
              "      <td>19</td>\n",
              "      <td>2012-10-02 11:00:00</td>\n",
              "      <td>4767</td>\n",
              "      <td>1</td>\n",
              "      <td>2012-10-02</td>\n",
              "      <td>11</td>\n",
              "      <td>10</td>\n",
              "      <td>2012</td>\n",
              "      <td>Manana</td>\n",
              "    </tr>\n",
              "    <tr>\n",
              "      <th>3</th>\n",
              "      <td>1</td>\n",
              "      <td>290.13</td>\n",
              "      <td>0.0</td>\n",
              "      <td>0.0</td>\n",
              "      <td>90</td>\n",
              "      <td>1</td>\n",
              "      <td>19</td>\n",
              "      <td>2012-10-02 12:00:00</td>\n",
              "      <td>5026</td>\n",
              "      <td>1</td>\n",
              "      <td>2012-10-02</td>\n",
              "      <td>12</td>\n",
              "      <td>10</td>\n",
              "      <td>2012</td>\n",
              "      <td>Tarde</td>\n",
              "    </tr>\n",
              "    <tr>\n",
              "      <th>4</th>\n",
              "      <td>1</td>\n",
              "      <td>291.14</td>\n",
              "      <td>0.0</td>\n",
              "      <td>0.0</td>\n",
              "      <td>75</td>\n",
              "      <td>1</td>\n",
              "      <td>2</td>\n",
              "      <td>2012-10-02 13:00:00</td>\n",
              "      <td>4918</td>\n",
              "      <td>1</td>\n",
              "      <td>2012-10-02</td>\n",
              "      <td>13</td>\n",
              "      <td>10</td>\n",
              "      <td>2012</td>\n",
              "      <td>Tarde</td>\n",
              "    </tr>\n",
              "  </tbody>\n",
              "</table>\n",
              "</div>"
            ],
            "text/plain": [
              "   holiday    temp  rain_1h  snow_1h  ...  hour  month  year     mtn\n",
              "0        1  288.28      0.0      0.0  ...     9     10  2012  Manana\n",
              "1        1  289.36      0.0      0.0  ...    10     10  2012  Manana\n",
              "2        1  289.58      0.0      0.0  ...    11     10  2012  Manana\n",
              "3        1  290.13      0.0      0.0  ...    12     10  2012   Tarde\n",
              "4        1  291.14      0.0      0.0  ...    13     10  2012   Tarde\n",
              "\n",
              "[5 rows x 15 columns]"
            ]
          },
          "metadata": {
            "tags": []
          },
          "execution_count": 8
        }
      ]
    },
    {
      "cell_type": "code",
      "metadata": {
        "id": "pRXxgm73Na6Y",
        "colab_type": "code",
        "outputId": "1b59595a-f068-4b48-e85b-97f1bed90f02",
        "colab": {
          "base_uri": "https://localhost:8080/",
          "height": 289
        }
      },
      "source": [
        "print(df.isnull().sum())"
      ],
      "execution_count": 0,
      "outputs": [
        {
          "output_type": "stream",
          "text": [
            "holiday                0\n",
            "temp                   0\n",
            "rain_1h                0\n",
            "snow_1h                0\n",
            "clouds_all             0\n",
            "weather_main           0\n",
            "weather_description    0\n",
            "date_time              0\n",
            "traffic_volume\\r       0\n",
            "weekday                0\n",
            "date                   0\n",
            "hour                   0\n",
            "month                  0\n",
            "year                   0\n",
            "mtn                    0\n",
            "dtype: int64\n"
          ],
          "name": "stdout"
        }
      ]
    },
    {
      "cell_type": "code",
      "metadata": {
        "id": "gttZ9ZoC7bXX",
        "colab_type": "code",
        "outputId": "33a9a244-9516-4a54-c052-8f863a9c767a",
        "colab": {
          "base_uri": "https://localhost:8080/",
          "height": 361
        }
      },
      "source": [
        "sns.heatmap(df.corr(), annot=True, cmap=\"Blues\")\n",
        "plt.show()"
      ],
      "execution_count": 0,
      "outputs": [
        {
          "output_type": "display_data",
          "data": {
            "image/png": "[encoded data removed]",
            "text/plain": [
              "<Figure size 432x288 with 2 Axes>"
            ]
          },
          "metadata": {
            "tags": [],
            "needs_background": "dark"
          }
        }
      ]
    },
    {
      "cell_type": "code",
      "metadata": {
        "id": "GpJtg7f7LVyU",
        "colab_type": "code",
        "outputId": "6f6531c7-cbff-4432-8cb6-26a1234e0a51",
        "colab": {
          "base_uri": "https://localhost:8080/",
          "height": 441
        }
      },
      "source": [
        "df.corr()"
      ],
      "execution_count": 0,
      "outputs": [
        {
          "output_type": "execute_result",
          "data": {
            "text/html": [
              "<div>\n",
              "<style scoped>\n",
              "    .dataframe tbody tr th:only-of-type {\n",
              "        vertical-align: middle;\n",
              "    }\n",
              "\n",
              "    .dataframe tbody tr th {\n",
              "        vertical-align: top;\n",
              "    }\n",
              "\n",
              "    .dataframe thead th {\n",
              "        text-align: right;\n",
              "    }\n",
              "</style>\n",
              "<table border=\"1\" class=\"dataframe\">\n",
              "  <thead>\n",
              "    <tr style=\"text-align: right;\">\n",
              "      <th></th>\n",
              "      <th>holiday</th>\n",
              "      <th>temp</th>\n",
              "      <th>rain_1h</th>\n",
              "      <th>snow_1h</th>\n",
              "      <th>clouds_all</th>\n",
              "      <th>weather_main</th>\n",
              "      <th>weather_description</th>\n",
              "      <th>traffic_volume\\r</th>\n",
              "      <th>weekday</th>\n",
              "      <th>hour</th>\n",
              "      <th>month</th>\n",
              "      <th>year</th>\n",
              "    </tr>\n",
              "  </thead>\n",
              "  <tbody>\n",
              "    <tr>\n",
              "      <th>holiday</th>\n",
              "      <td>1.000000</td>\n",
              "      <td>0.007713</td>\n",
              "      <td>0.000216</td>\n",
              "      <td>0.000969</td>\n",
              "      <td>0.005610</td>\n",
              "      <td>0.000268</td>\n",
              "      <td>0.002991</td>\n",
              "      <td>0.042897</td>\n",
              "      <td>0.032315</td>\n",
              "      <td>0.058461</td>\n",
              "      <td>-0.005343</td>\n",
              "      <td>0.000080</td>\n",
              "    </tr>\n",
              "    <tr>\n",
              "      <th>temp</th>\n",
              "      <td>0.007713</td>\n",
              "      <td>1.000000</td>\n",
              "      <td>0.009069</td>\n",
              "      <td>-0.019755</td>\n",
              "      <td>-0.101976</td>\n",
              "      <td>-0.033441</td>\n",
              "      <td>-0.049434</td>\n",
              "      <td>0.130299</td>\n",
              "      <td>-0.007708</td>\n",
              "      <td>0.112089</td>\n",
              "      <td>0.223738</td>\n",
              "      <td>0.134945</td>\n",
              "    </tr>\n",
              "    <tr>\n",
              "      <th>rain_1h</th>\n",
              "      <td>0.000216</td>\n",
              "      <td>0.009069</td>\n",
              "      <td>1.000000</td>\n",
              "      <td>-0.000090</td>\n",
              "      <td>0.004818</td>\n",
              "      <td>0.009535</td>\n",
              "      <td>0.010774</td>\n",
              "      <td>0.004714</td>\n",
              "      <td>-0.006920</td>\n",
              "      <td>0.003421</td>\n",
              "      <td>0.001298</td>\n",
              "      <td>0.000442</td>\n",
              "    </tr>\n",
              "    <tr>\n",
              "      <th>snow_1h</th>\n",
              "      <td>0.000969</td>\n",
              "      <td>-0.019755</td>\n",
              "      <td>-0.000090</td>\n",
              "      <td>1.000000</td>\n",
              "      <td>0.027931</td>\n",
              "      <td>0.036637</td>\n",
              "      <td>0.005101</td>\n",
              "      <td>0.000733</td>\n",
              "      <td>-0.014928</td>\n",
              "      <td>0.009849</td>\n",
              "      <td>0.020412</td>\n",
              "      <td>-0.003519</td>\n",
              "    </tr>\n",
              "    <tr>\n",
              "      <th>clouds_all</th>\n",
              "      <td>0.005610</td>\n",
              "      <td>-0.101976</td>\n",
              "      <td>0.004818</td>\n",
              "      <td>0.027931</td>\n",
              "      <td>1.000000</td>\n",
              "      <td>0.500745</td>\n",
              "      <td>-0.341891</td>\n",
              "      <td>0.067054</td>\n",
              "      <td>-0.039715</td>\n",
              "      <td>0.054418</td>\n",
              "      <td>-0.009133</td>\n",
              "      <td>-0.072861</td>\n",
              "    </tr>\n",
              "    <tr>\n",
              "      <th>weather_main</th>\n",
              "      <td>0.000268</td>\n",
              "      <td>-0.033441</td>\n",
              "      <td>0.009535</td>\n",
              "      <td>0.036637</td>\n",
              "      <td>0.500745</td>\n",
              "      <td>1.000000</td>\n",
              "      <td>-0.127549</td>\n",
              "      <td>-0.040151</td>\n",
              "      <td>-0.038688</td>\n",
              "      <td>-0.053622</td>\n",
              "      <td>0.026294</td>\n",
              "      <td>0.036396</td>\n",
              "    </tr>\n",
              "    <tr>\n",
              "      <th>weather_description</th>\n",
              "      <td>0.002991</td>\n",
              "      <td>-0.049434</td>\n",
              "      <td>0.010774</td>\n",
              "      <td>0.005101</td>\n",
              "      <td>-0.341891</td>\n",
              "      <td>-0.127549</td>\n",
              "      <td>1.000000</td>\n",
              "      <td>-0.067507</td>\n",
              "      <td>0.031892</td>\n",
              "      <td>-0.019637</td>\n",
              "      <td>-0.035943</td>\n",
              "      <td>0.119376</td>\n",
              "    </tr>\n",
              "    <tr>\n",
              "      <th>traffic_volume\\r</th>\n",
              "      <td>0.042897</td>\n",
              "      <td>0.130299</td>\n",
              "      <td>0.004714</td>\n",
              "      <td>0.000733</td>\n",
              "      <td>0.067054</td>\n",
              "      <td>-0.040151</td>\n",
              "      <td>-0.067507</td>\n",
              "      <td>1.000000</td>\n",
              "      <td>-0.149544</td>\n",
              "      <td>0.352401</td>\n",
              "      <td>-0.002533</td>\n",
              "      <td>0.004753</td>\n",
              "    </tr>\n",
              "    <tr>\n",
              "      <th>weekday</th>\n",
              "      <td>0.032315</td>\n",
              "      <td>-0.007708</td>\n",
              "      <td>-0.006920</td>\n",
              "      <td>-0.014928</td>\n",
              "      <td>-0.039715</td>\n",
              "      <td>-0.038688</td>\n",
              "      <td>0.031892</td>\n",
              "      <td>-0.149544</td>\n",
              "      <td>1.000000</td>\n",
              "      <td>-0.003858</td>\n",
              "      <td>0.010741</td>\n",
              "      <td>-0.012313</td>\n",
              "    </tr>\n",
              "    <tr>\n",
              "      <th>hour</th>\n",
              "      <td>0.058461</td>\n",
              "      <td>0.112089</td>\n",
              "      <td>0.003421</td>\n",
              "      <td>0.009849</td>\n",
              "      <td>0.054418</td>\n",
              "      <td>-0.053622</td>\n",
              "      <td>-0.019637</td>\n",
              "      <td>0.352401</td>\n",
              "      <td>-0.003858</td>\n",
              "      <td>1.000000</td>\n",
              "      <td>0.001865</td>\n",
              "      <td>-0.007542</td>\n",
              "    </tr>\n",
              "    <tr>\n",
              "      <th>month</th>\n",
              "      <td>-0.005343</td>\n",
              "      <td>0.223738</td>\n",
              "      <td>0.001298</td>\n",
              "      <td>0.020412</td>\n",
              "      <td>-0.009133</td>\n",
              "      <td>0.026294</td>\n",
              "      <td>-0.035943</td>\n",
              "      <td>-0.002533</td>\n",
              "      <td>0.010741</td>\n",
              "      <td>0.001865</td>\n",
              "      <td>1.000000</td>\n",
              "      <td>-0.158688</td>\n",
              "    </tr>\n",
              "    <tr>\n",
              "      <th>year</th>\n",
              "      <td>0.000080</td>\n",
              "      <td>0.134945</td>\n",
              "      <td>0.000442</td>\n",
              "      <td>-0.003519</td>\n",
              "      <td>-0.072861</td>\n",
              "      <td>0.036396</td>\n",
              "      <td>0.119376</td>\n",
              "      <td>0.004753</td>\n",
              "      <td>-0.012313</td>\n",
              "      <td>-0.007542</td>\n",
              "      <td>-0.158688</td>\n",
              "      <td>1.000000</td>\n",
              "    </tr>\n",
              "  </tbody>\n",
              "</table>\n",
              "</div>"
            ],
            "text/plain": [
              "                      holiday      temp   rain_1h  ...      hour     month      year\n",
              "holiday              1.000000  0.007713  0.000216  ...  0.058461 -0.005343  0.000080\n",
              "temp                 0.007713  1.000000  0.009069  ...  0.112089  0.223738  0.134945\n",
              "rain_1h              0.000216  0.009069  1.000000  ...  0.003421  0.001298  0.000442\n",
              "snow_1h              0.000969 -0.019755 -0.000090  ...  0.009849  0.020412 -0.003519\n",
              "clouds_all           0.005610 -0.101976  0.004818  ...  0.054418 -0.009133 -0.072861\n",
              "weather_main         0.000268 -0.033441  0.009535  ... -0.053622  0.026294  0.036396\n",
              "weather_description  0.002991 -0.049434  0.010774  ... -0.019637 -0.035943  0.119376\n",
              "traffic_volume\\r     0.042897  0.130299  0.004714  ...  0.352401 -0.002533  0.004753\n",
              "weekday              0.032315 -0.007708 -0.006920  ... -0.003858  0.010741 -0.012313\n",
              "hour                 0.058461  0.112089  0.003421  ...  1.000000  0.001865 -0.007542\n",
              "month               -0.005343  0.223738  0.001298  ...  0.001865  1.000000 -0.158688\n",
              "year                 0.000080  0.134945  0.000442  ... -0.007542 -0.158688  1.000000\n",
              "\n",
              "[12 rows x 12 columns]"
            ]
          },
          "metadata": {
            "tags": []
          },
          "execution_count": 11
        }
      ]
    },
    {
      "cell_type": "code",
      "metadata": {
        "id": "HB8lZEm1O9jJ",
        "colab_type": "code",
        "colab": {}
      },
      "source": [
        "df = df[[\"holiday\",\"temp\", \"clouds_all\",\"hour\",\"traffic_volume\\r\"]]"
      ],
      "execution_count": 0,
      "outputs": []
    },
    {
      "cell_type": "code",
      "metadata": {
        "id": "AiyojZa5Zzk8",
        "colab_type": "code",
        "colab": {}
      },
      "source": [
        "totCol = len(df.columns)\n",
        "totAttr = totCol-1"
      ],
      "execution_count": 0,
      "outputs": []
    },
    {
      "cell_type": "code",
      "metadata": {
        "id": "bSzcTDPbZ7vJ",
        "colab_type": "code",
        "outputId": "e3177e5e-2c50-48bd-e0e9-97dde98fe175",
        "colab": {
          "base_uri": "https://localhost:8080/",
          "height": 34
        }
      },
      "source": [
        "targetCol = totCol\n",
        "if targetCol == totCol:\n",
        "    X_original = df.iloc[:,0:totAttr]\n",
        "    y_original = df.iloc[:,totAttr]\n",
        "else:\n",
        "    X_original = df.iloc[:,1:totCol]\n",
        "    y_original = df.iloc[:,0]\n",
        "\n",
        "print(\"Xy_original.shape: {} X_original.shape: {} y_original.shape: {}\".format(df.shape, X_original.shape, y_original.shape))"
      ],
      "execution_count": 0,
      "outputs": [
        {
          "output_type": "stream",
          "text": [
            "Xy_original.shape: (48204, 5) X_original.shape: (48204, 4) y_original.shape: (48204,)\n"
          ],
          "name": "stdout"
        }
      ]
    },
    {
      "cell_type": "code",
      "metadata": {
        "id": "KG68IxRI8UvD",
        "colab_type": "code",
        "colab": {}
      },
      "source": [
        "\n",
        "dispCol = 4\n",
        "if totAttr % dispCol == 0 :\n",
        "    dispRow = totAttr // dispCol\n",
        "else :\n",
        "    dispRow = (totAttr // dispCol) + 1\n",
        "fig_size = plt.rcParams[\"figure.figsize\"]\n",
        "fig_size[0] = dispCol*4\n",
        "fig_size[1] = dispRow*4\n",
        "plt.rcParams[\"figure.figsize\"] = fig_size"
      ],
      "execution_count": 0,
      "outputs": []
    },
    {
      "cell_type": "code",
      "metadata": {
        "id": "i8JhG7AiMSxK",
        "colab_type": "code",
        "outputId": "51e3c6fd-802c-4ff4-91c9-53b90fd51f2a",
        "colab": {
          "base_uri": "https://localhost:8080/",
          "height": 359
        }
      },
      "source": [
        "X_original.head(10)"
      ],
      "execution_count": 0,
      "outputs": [
        {
          "output_type": "execute_result",
          "data": {
            "text/html": [
              "<div>\n",
              "<style scoped>\n",
              "    .dataframe tbody tr th:only-of-type {\n",
              "        vertical-align: middle;\n",
              "    }\n",
              "\n",
              "    .dataframe tbody tr th {\n",
              "        vertical-align: top;\n",
              "    }\n",
              "\n",
              "    .dataframe thead th {\n",
              "        text-align: right;\n",
              "    }\n",
              "</style>\n",
              "<table border=\"1\" class=\"dataframe\">\n",
              "  <thead>\n",
              "    <tr style=\"text-align: right;\">\n",
              "      <th></th>\n",
              "      <th>holiday</th>\n",
              "      <th>temp</th>\n",
              "      <th>clouds_all</th>\n",
              "      <th>hour</th>\n",
              "    </tr>\n",
              "  </thead>\n",
              "  <tbody>\n",
              "    <tr>\n",
              "      <th>0</th>\n",
              "      <td>1</td>\n",
              "      <td>288.28</td>\n",
              "      <td>40</td>\n",
              "      <td>9</td>\n",
              "    </tr>\n",
              "    <tr>\n",
              "      <th>1</th>\n",
              "      <td>1</td>\n",
              "      <td>289.36</td>\n",
              "      <td>75</td>\n",
              "      <td>10</td>\n",
              "    </tr>\n",
              "    <tr>\n",
              "      <th>2</th>\n",
              "      <td>1</td>\n",
              "      <td>289.58</td>\n",
              "      <td>90</td>\n",
              "      <td>11</td>\n",
              "    </tr>\n",
              "    <tr>\n",
              "      <th>3</th>\n",
              "      <td>1</td>\n",
              "      <td>290.13</td>\n",
              "      <td>90</td>\n",
              "      <td>12</td>\n",
              "    </tr>\n",
              "    <tr>\n",
              "      <th>4</th>\n",
              "      <td>1</td>\n",
              "      <td>291.14</td>\n",
              "      <td>75</td>\n",
              "      <td>13</td>\n",
              "    </tr>\n",
              "    <tr>\n",
              "      <th>5</th>\n",
              "      <td>1</td>\n",
              "      <td>291.72</td>\n",
              "      <td>1</td>\n",
              "      <td>14</td>\n",
              "    </tr>\n",
              "    <tr>\n",
              "      <th>6</th>\n",
              "      <td>1</td>\n",
              "      <td>293.17</td>\n",
              "      <td>1</td>\n",
              "      <td>15</td>\n",
              "    </tr>\n",
              "    <tr>\n",
              "      <th>7</th>\n",
              "      <td>1</td>\n",
              "      <td>293.86</td>\n",
              "      <td>1</td>\n",
              "      <td>16</td>\n",
              "    </tr>\n",
              "    <tr>\n",
              "      <th>8</th>\n",
              "      <td>1</td>\n",
              "      <td>294.14</td>\n",
              "      <td>20</td>\n",
              "      <td>17</td>\n",
              "    </tr>\n",
              "    <tr>\n",
              "      <th>9</th>\n",
              "      <td>1</td>\n",
              "      <td>293.10</td>\n",
              "      <td>20</td>\n",
              "      <td>18</td>\n",
              "    </tr>\n",
              "  </tbody>\n",
              "</table>\n",
              "</div>"
            ],
            "text/plain": [
              "   holiday    temp  clouds_all  hour\n",
              "0        1  288.28          40     9\n",
              "1        1  289.36          75    10\n",
              "2        1  289.58          90    11\n",
              "3        1  290.13          90    12\n",
              "4        1  291.14          75    13\n",
              "5        1  291.72           1    14\n",
              "6        1  293.17           1    15\n",
              "7        1  293.86           1    16\n",
              "8        1  294.14          20    17\n",
              "9        1  293.10          20    18"
            ]
          },
          "metadata": {
            "tags": []
          },
          "execution_count": 16
        }
      ]
    },
    {
      "cell_type": "code",
      "metadata": {
        "id": "zBmUUEpMTFFY",
        "colab_type": "code",
        "colab": {}
      },
      "source": [
        "# Descriptive statistics for each column\n",
        "#train_dataset.describe()"
      ],
      "execution_count": 0,
      "outputs": []
    },
    {
      "cell_type": "code",
      "metadata": {
        "id": "MhaAZVXVTZtF",
        "colab_type": "code",
        "outputId": "de8feea2-f7eb-4053-f43f-5b57d9b18062",
        "colab": {
          "base_uri": "https://localhost:8080/",
          "height": 204
        }
      },
      "source": [
        "#sns.pairplot(df, diag_kind=\"kde\")\n",
        "\n",
        "X_original.info()"
      ],
      "execution_count": 0,
      "outputs": [
        {
          "output_type": "stream",
          "text": [
            "<class 'pandas.core.frame.DataFrame'>\n",
            "RangeIndex: 48204 entries, 0 to 48203\n",
            "Data columns (total 4 columns):\n",
            " #   Column      Non-Null Count  Dtype  \n",
            "---  ------      --------------  -----  \n",
            " 0   holiday     48204 non-null  int64  \n",
            " 1   temp        48204 non-null  float64\n",
            " 2   clouds_all  48204 non-null  int64  \n",
            " 3   hour        48204 non-null  int64  \n",
            "dtypes: float64(1), int64(3)\n",
            "memory usage: 1.5 MB\n"
          ],
          "name": "stdout"
        }
      ]
    },
    {
      "cell_type": "code",
      "metadata": {
        "id": "Kca3tKZHVuoD",
        "colab_type": "code",
        "outputId": "1fc979ac-616b-41a6-cdf1-0408362a59b4",
        "colab": {
          "base_uri": "https://localhost:8080/",
          "height": 297
        }
      },
      "source": [
        "X_original.describe()"
      ],
      "execution_count": 0,
      "outputs": [
        {
          "output_type": "execute_result",
          "data": {
            "text/html": [
              "<div>\n",
              "<style scoped>\n",
              "    .dataframe tbody tr th:only-of-type {\n",
              "        vertical-align: middle;\n",
              "    }\n",
              "\n",
              "    .dataframe tbody tr th {\n",
              "        vertical-align: top;\n",
              "    }\n",
              "\n",
              "    .dataframe thead th {\n",
              "        text-align: right;\n",
              "    }\n",
              "</style>\n",
              "<table border=\"1\" class=\"dataframe\">\n",
              "  <thead>\n",
              "    <tr style=\"text-align: right;\">\n",
              "      <th></th>\n",
              "      <th>holiday</th>\n",
              "      <th>temp</th>\n",
              "      <th>clouds_all</th>\n",
              "      <th>hour</th>\n",
              "    </tr>\n",
              "  </thead>\n",
              "  <tbody>\n",
              "    <tr>\n",
              "      <th>count</th>\n",
              "      <td>48204.000000</td>\n",
              "      <td>48204.000000</td>\n",
              "      <td>48204.000000</td>\n",
              "      <td>48204.000000</td>\n",
              "    </tr>\n",
              "    <tr>\n",
              "      <th>mean</th>\n",
              "      <td>0.998735</td>\n",
              "      <td>281.205870</td>\n",
              "      <td>49.362231</td>\n",
              "      <td>11.398162</td>\n",
              "    </tr>\n",
              "    <tr>\n",
              "      <th>std</th>\n",
              "      <td>0.035551</td>\n",
              "      <td>13.338232</td>\n",
              "      <td>39.015750</td>\n",
              "      <td>6.940238</td>\n",
              "    </tr>\n",
              "    <tr>\n",
              "      <th>min</th>\n",
              "      <td>0.000000</td>\n",
              "      <td>0.000000</td>\n",
              "      <td>0.000000</td>\n",
              "      <td>0.000000</td>\n",
              "    </tr>\n",
              "    <tr>\n",
              "      <th>25%</th>\n",
              "      <td>1.000000</td>\n",
              "      <td>272.160000</td>\n",
              "      <td>1.000000</td>\n",
              "      <td>5.000000</td>\n",
              "    </tr>\n",
              "    <tr>\n",
              "      <th>50%</th>\n",
              "      <td>1.000000</td>\n",
              "      <td>282.450000</td>\n",
              "      <td>64.000000</td>\n",
              "      <td>11.000000</td>\n",
              "    </tr>\n",
              "    <tr>\n",
              "      <th>75%</th>\n",
              "      <td>1.000000</td>\n",
              "      <td>291.806000</td>\n",
              "      <td>90.000000</td>\n",
              "      <td>17.000000</td>\n",
              "    </tr>\n",
              "    <tr>\n",
              "      <th>max</th>\n",
              "      <td>1.000000</td>\n",
              "      <td>310.070000</td>\n",
              "      <td>100.000000</td>\n",
              "      <td>23.000000</td>\n",
              "    </tr>\n",
              "  </tbody>\n",
              "</table>\n",
              "</div>"
            ],
            "text/plain": [
              "            holiday          temp    clouds_all          hour\n",
              "count  48204.000000  48204.000000  48204.000000  48204.000000\n",
              "mean       0.998735    281.205870     49.362231     11.398162\n",
              "std        0.035551     13.338232     39.015750      6.940238\n",
              "min        0.000000      0.000000      0.000000      0.000000\n",
              "25%        1.000000    272.160000      1.000000      5.000000\n",
              "50%        1.000000    282.450000     64.000000     11.000000\n",
              "75%        1.000000    291.806000     90.000000     17.000000\n",
              "max        1.000000    310.070000    100.000000     23.000000"
            ]
          },
          "metadata": {
            "tags": []
          },
          "execution_count": 21
        }
      ]
    },
    {
      "cell_type": "code",
      "metadata": {
        "id": "bxwF_y0DYl2D",
        "colab_type": "code",
        "outputId": "090967de-47b3-4088-a154-3ede0db7da29",
        "colab": {
          "base_uri": "https://localhost:8080/",
          "height": 281
        }
      },
      "source": [
        "X_original.hist(layout=(dispRow,dispCol))\n",
        "plt.show()"
      ],
      "execution_count": 0,
      "outputs": [
        {
          "output_type": "display_data",
          "data": {
            "image/png": "[encoded data removed]",
            "text/plain": [
              "<Figure size 1152x288 with 4 Axes>"
            ]
          },
          "metadata": {
            "tags": [],
            "needs_background": "dark"
          }
        }
      ]
    },
    {
      "cell_type": "code",
      "metadata": {
        "id": "6EzZcSJGbuFV",
        "colab_type": "code",
        "outputId": "8484246c-965a-4007-fbd2-e144d2a4bfed",
        "colab": {
          "base_uri": "https://localhost:8080/",
          "height": 269
        }
      },
      "source": [
        "X_original.plot(kind='density', subplots=True, layout=(dispRow,4))\n",
        "plt.show()"
      ],
      "execution_count": 0,
      "outputs": [
        {
          "output_type": "display_data",
          "data": {
            "image/png": "[encoded data removed]",
            "text/plain": [
              "<Figure size 1152x288 with 4 Axes>"
            ]
          },
          "metadata": {
            "tags": [],
            "needs_background": "dark"
          }
        }
      ]
    },
    {
      "cell_type": "code",
      "metadata": {
        "id": "9Jv7blJ5cCHC",
        "colab_type": "code",
        "outputId": "36c73ebe-8dd1-4561-8f15-62c0f85a88e6",
        "colab": {
          "base_uri": "https://localhost:8080/",
          "height": 221
        }
      },
      "source": [
        "X_original = pd.get_dummies(X_original)\n",
        "print(X_original.info())"
      ],
      "execution_count": 0,
      "outputs": [
        {
          "output_type": "stream",
          "text": [
            "<class 'pandas.core.frame.DataFrame'>\n",
            "RangeIndex: 48204 entries, 0 to 48203\n",
            "Data columns (total 4 columns):\n",
            " #   Column      Non-Null Count  Dtype  \n",
            "---  ------      --------------  -----  \n",
            " 0   holiday     48204 non-null  int64  \n",
            " 1   temp        48204 non-null  float64\n",
            " 2   clouds_all  48204 non-null  int64  \n",
            " 3   hour        48204 non-null  int64  \n",
            "dtypes: float64(1), int64(3)\n",
            "memory usage: 1.5 MB\n",
            "None\n"
          ],
          "name": "stdout"
        }
      ]
    },
    {
      "cell_type": "code",
      "metadata": {
        "id": "0a0uEvZgcJjl",
        "colab_type": "code",
        "outputId": "7c30e0e3-f515-47f0-ae2d-3d9afef039cb",
        "colab": {
          "base_uri": "https://localhost:8080/",
          "height": 51
        }
      },
      "source": [
        "seedNum = 888\n",
        "testDataset_size = 0.25\n",
        "X_train_df, X_test_df, y_train_df, y_test_df = train_test_split(X_original, y_original, test_size=testDataset_size, random_state=seedNum)\n",
        "print(\"X_train_df.shape: {} y_train_df.shape: {}\".format(X_train_df.shape, y_train_df.shape))\n",
        "print(\"X_test_df.shape: {} y_test_df.shape: {}\".format(X_test_df.shape, y_test_df.shape))"
      ],
      "execution_count": 0,
      "outputs": [
        {
          "output_type": "stream",
          "text": [
            "X_train_df.shape: (36153, 4) y_train_df.shape: (36153,)\n",
            "X_test_df.shape: (12051, 4) y_test_df.shape: (12051,)\n"
          ],
          "name": "stdout"
        }
      ]
    },
    {
      "cell_type": "code",
      "metadata": {
        "id": "7jrhVySWcXTM",
        "colab_type": "code",
        "outputId": "5a20d9d7-03ff-4d0a-feda-11b402c1a680",
        "colab": {
          "base_uri": "https://localhost:8080/",
          "height": 51
        }
      },
      "source": [
        "X_train = X_train_df.values\n",
        "y_train = y_train_df.values\n",
        "X_test = X_test_df.values\n",
        "y_test = y_test_df.values\n",
        "print(\"X_train.shape: {} y_train.shape: {}\".format(X_train.shape, y_train.shape))\n",
        "print(\"X_test.shape: {} y_test.shape: {}\".format(X_test.shape, y_test.shape))"
      ],
      "execution_count": 0,
      "outputs": [
        {
          "output_type": "stream",
          "text": [
            "X_train.shape: (36153, 4) y_train.shape: (36153,)\n",
            "X_test.shape: (12051, 4) y_test.shape: (12051,)\n"
          ],
          "name": "stdout"
        }
      ]
    },
    {
      "cell_type": "code",
      "metadata": {
        "id": "1qhzdCPWcgM9",
        "colab_type": "code",
        "colab": {}
      },
      "source": [
        "cpu_num = 6\n",
        "# Set up Algorithms Spot-Checking Array\n",
        "startTimeModule = datetime.now()\n",
        "models = []\n",
        "models.append(('LR', LinearRegression(n_jobs=cpu_num)))\n",
        "models.append(('RR', Ridge(random_state=seedNum)))\n",
        "models.append(('LASSO', Lasso(random_state=seedNum)))\n",
        "models.append(('EN', ElasticNet(random_state=seedNum)))\n",
        "models.append(('CART', DecisionTreeRegressor(random_state=seedNum)))\n",
        "models.append(('KNN', KNeighborsRegressor(n_jobs=cpu_num)))\n",
        "models.append(('RF', RandomForestRegressor(random_state=seedNum, n_jobs=cpu_num)))\n",
        "models.append(('ET', ExtraTreesRegressor(random_state=seedNum, n_jobs=cpu_num)))\n",
        "models.append(('GBM', GradientBoostingRegressor(random_state=seedNum)))\n",
        "# models.append(('XGB', XGBRegressor(random_state=seedNum, n_jobs=cpu_num)))\n",
        "results = []\n",
        "names = []\n",
        "metrics = []"
      ],
      "execution_count": 0,
      "outputs": []
    },
    {
      "cell_type": "code",
      "metadata": {
        "id": "v8n84Py3cwsP",
        "colab_type": "code",
        "outputId": "b0f4954b-8ee9-41e4-ba85-8b216a457a76",
        "colab": {
          "base_uri": "https://localhost:8080/",
          "height": 357
        }
      },
      "source": [
        "num_folds = 10\n",
        "scoring = 'neg_mean_squared_error'\n",
        "# Generate model in turn\n",
        "for name, model in models:\n",
        "\t\n",
        "\tstartTimeModule = datetime.now()\n",
        "\tkfold = KFold(n_splits=num_folds, random_state=seedNum)\n",
        "\tcv_results = cross_val_score(model, X_train, y_train, cv=kfold, scoring=scoring)\n",
        "\tresults.append(cv_results)\n",
        "\tnames.append(name)\n",
        "\tmetrics.append(cv_results.mean())\n",
        "\tmsg = \"%s: %f (%f)\" % (name, cv_results.mean(), cv_results.std())\n",
        "\tprint(msg)\n",
        "\tprint ('Model training time:',(datetime.now() - startTimeModule))\n",
        "\n",
        "print ('Average RMSE from all models:',math.sqrt(np.mean(metrics)*-1.0))\n",
        "print ('Total training time for all models:',(datetime.now() - startTimeModule))"
      ],
      "execution_count": 0,
      "outputs": [
        {
          "output_type": "stream",
          "text": [
            "LR: -3407631.506755 (56387.928841)\n",
            "Model training time: 0:00:00.085541\n",
            "RR: -3407632.039512 (56394.121494)\n",
            "Model training time: 0:00:00.069571\n",
            "LASSO: -3408419.499942 (56471.095909)\n",
            "Model training time: 0:00:00.061303\n",
            "EN: -3409688.965949 (56323.414599)\n",
            "Model training time: 0:00:00.058913\n",
            "CART: -1325545.681211 (44647.197977)\n",
            "Model training time: 0:00:01.149114\n",
            "KNN: -981466.697779 (46326.813736)\n",
            "Model training time: 0:00:04.058894\n",
            "RF: -910721.912388 (36719.516591)\n",
            "Model training time: 0:01:03.463557\n",
            "ET: -1055378.362209 (38626.831499)\n",
            "Model training time: 0:00:42.779462\n",
            "GBM: -875989.726095 (35142.758159)\n",
            "Model training time: 0:00:19.208236\n",
            "Average RMSE from all models: 1444.625072153081\n",
            "Total training time for all models: 0:00:19.209625\n"
          ],
          "name": "stdout"
        }
      ]
    },
    {
      "cell_type": "code",
      "metadata": {
        "id": "3DDIqNDseI71",
        "colab_type": "code",
        "colab": {}
      },
      "source": [
        "results = []\n",
        "names = []"
      ],
      "execution_count": 0,
      "outputs": []
    },
    {
      "cell_type": "code",
      "metadata": {
        "id": "8NfBfCrAeNj3",
        "colab_type": "code",
        "outputId": "b2c83eaa-3624-42a0-dd71-2970458acbd4",
        "colab": {
          "base_uri": "https://localhost:8080/",
          "height": 153
        }
      },
      "source": [
        "startTimeModule = datetime.now()\n",
        "paramGrid1 = dict(n_estimators=np.array([100, 200, 300, 400, 500]))\n",
        "model1 = RandomForestRegressor(n_jobs=cpu_num)\n",
        "kfold = KFold(n_splits=num_folds, random_state=seedNum)\n",
        "grid1 = GridSearchCV(estimator=model1, param_grid=paramGrid1, scoring=scoring, cv=kfold)\n",
        "grid_result1 = grid1.fit(X_train, y_train)\n",
        "\n",
        "print(\"Best: %f using %s\" % (grid_result1.best_score_, grid_result1.best_params_))\n",
        "results.append(grid_result1.cv_results_['mean_test_score'])\n",
        "names.append('RF')\n",
        "means = grid_result1.cv_results_['mean_test_score']\n",
        "stds = grid_result1.cv_results_['std_test_score']\n",
        "params = grid_result1.cv_results_['params']\n",
        "for mean, stdev, param in zip(means, stds, params):\n",
        "    print(\"%f (%f) with: %r\" % (mean, stdev, param))\n",
        "print ('Best RMSE for the Model is:', math.sqrt((grid_result1.best_score_*-1)))\n",
        "print ('Model training time:',(datetime.now() - startTimeModule))"
      ],
      "execution_count": 0,
      "outputs": [
        {
          "output_type": "stream",
          "text": [
            "Best: -904776.739411 using {'n_estimators': 500}\n",
            "-907520.205813 (35505.079098) with: {'n_estimators': 100}\n",
            "-907802.707805 (35404.722444) with: {'n_estimators': 200}\n",
            "-906544.498886 (37578.049189) with: {'n_estimators': 300}\n",
            "-905969.403949 (35037.158052) with: {'n_estimators': 400}\n",
            "-904776.739411 (36565.832659) with: {'n_estimators': 500}\n",
            "Best RMSE for the Model is: 951.1975291235216\n",
            "Model training time: 0:16:31.480575\n"
          ],
          "name": "stdout"
        }
      ]
    },
    {
      "cell_type": "code",
      "metadata": {
        "id": "uFgFPIhzsGTB",
        "colab_type": "code",
        "outputId": "54ca3ab4-3206-49d7-8681-3088fc62ff5d",
        "colab": {
          "base_uri": "https://localhost:8080/",
          "height": 153
        }
      },
      "source": [
        "startTimeModule = datetime.now()\n",
        "paramGrid3 = dict(n_estimators=np.array([100, 200, 300, 400, 500]))\n",
        "model3 = AdaBoostRegressor(base_estimator=None, n_estimators=50, learning_rate=1.0, loss='linear', random_state=None)\n",
        "kfold3 = KFold(n_splits=num_folds, random_state=seedNum)\n",
        "grid3 = GridSearchCV(estimator=model3, param_grid=paramGrid3, scoring=scoring, cv=kfold3)\n",
        "grid_result3 = grid1.fit(X_train, y_train)\n",
        "\n",
        "print(\"Best: %f using %s\" % (grid_result3.best_score_, grid_result3.best_params_))\n",
        "results.append(grid_result3.cv_results_['mean_test_score'])\n",
        "names.append('RF')\n",
        "means = grid_result3.cv_results_['mean_test_score']\n",
        "stds = grid_result3.cv_results_['std_test_score']\n",
        "params = grid_result3.cv_results_['params']\n",
        "for mean, stdev, param in zip(means, stds, params):\n",
        "    print(\"%f (%f) with: %r\" % (mean, stdev, param))\n",
        "print ('Best RMSE for the Model is:', math.sqrt((grid_result3.best_score_*-1)))\n",
        "print ('Model training time:',(datetime.now() - startTimeModule))"
      ],
      "execution_count": 0,
      "outputs": [
        {
          "output_type": "stream",
          "text": [
            "Best: -904449.997830 using {'n_estimators': 500}\n",
            "-911606.714757 (36504.238456) with: {'n_estimators': 100}\n",
            "-907088.948562 (34696.855194) with: {'n_estimators': 200}\n",
            "-905606.707697 (36793.218666) with: {'n_estimators': 300}\n",
            "-905370.101586 (36145.889739) with: {'n_estimators': 400}\n",
            "-904449.997830 (36708.851076) with: {'n_estimators': 500}\n",
            "Best RMSE for the Model is: 951.025760865512\n",
            "Model training time: 0:16:07.398491\n"
          ],
          "name": "stdout"
        }
      ]
    },
    {
      "cell_type": "code",
      "metadata": {
        "id": "frSxb_frixfM",
        "colab_type": "code",
        "outputId": "713ee1df-cd9e-4a65-c701-424a23736737",
        "colab": {
          "base_uri": "https://localhost:8080/",
          "height": 153
        }
      },
      "source": [
        "startTimeModule = datetime.now()\n",
        "paramGrid2 = dict(n_estimators=np.array([300, 400, 500, 600, 700]))\n",
        "model2 = ExtraTreesRegressor(random_state=seedNum)\n",
        "kfold = KFold(n_splits=num_folds, random_state=seedNum)\n",
        "grid2 = GridSearchCV(estimator=model2, param_grid=paramGrid2, scoring=scoring, cv=kfold)\n",
        "grid_result2 = grid2.fit(X_train, y_train)\n",
        "\n",
        "print(\"Best: %f using %s\" % (grid_result2.best_score_, grid_result2.best_params_))\n",
        "results.append(grid_result2.cv_results_['mean_test_score'])\n",
        "names.append('ET')\n",
        "means = grid_result2.cv_results_['mean_test_score']\n",
        "stds = grid_result2.cv_results_['std_test_score']\n",
        "params = grid_result2.cv_results_['params']\n",
        "for mean, stdev, param in zip(means, stds, params):\n",
        "    print(\"%f (%f) with: %r\" % (mean, stdev, param))\n",
        "print ('Best RMSE for the Model is:', math.sqrt((grid_result2.best_score_*-1)))\n",
        "print ('Model training time:',(datetime.now() - startTimeModule))"
      ],
      "execution_count": 0,
      "outputs": [
        {
          "output_type": "stream",
          "text": [
            "Best: -1053261.039823 using {'n_estimators': 400}\n",
            "-1053397.724844 (39241.291240) with: {'n_estimators': 300}\n",
            "-1053261.039823 (39476.260681) with: {'n_estimators': 400}\n",
            "-1053490.944286 (39367.949292) with: {'n_estimators': 500}\n",
            "-1053501.554534 (39162.367506) with: {'n_estimators': 600}\n",
            "-1053624.530842 (39150.533881) with: {'n_estimators': 700}\n",
            "Best RMSE for the Model is: 1026.2850675242685\n",
            "Model training time: 0:15:38.840255\n"
          ],
          "name": "stdout"
        }
      ]
    },
    {
      "cell_type": "code",
      "metadata": {
        "id": "-MWU29YLvbrI",
        "colab_type": "code",
        "colab": {}
      },
      "source": [
        ""
      ],
      "execution_count": 0,
      "outputs": []
    },
    {
      "cell_type": "code",
      "metadata": {
        "id": "9PK5BQ6znOtD",
        "colab_type": "code",
        "outputId": "cec4b76f-0eb8-4fa0-f3ec-e09efd97522b",
        "colab": {
          "base_uri": "https://localhost:8080/",
          "height": 51
        }
      },
      "source": [
        "model1 = RandomForestRegressor(n_estimators=300, random_state=seedNum, n_jobs=cpu_num)\n",
        "model1.fit(X_train, y_train)\n",
        "predictions = model1.predict(X_test)\n",
        "print('RMSE for the model is: ', math.sqrt(mean_squared_error(y_test, predictions)))\n",
        "print('R2 for the model is: ', r2_score(y_test, predictions))"
      ],
      "execution_count": 0,
      "outputs": [
        {
          "output_type": "stream",
          "text": [
            "RMSE for the model is:  936.7821157071935\n",
            "R2 for the model is:  0.7782637354497051\n"
          ],
          "name": "stdout"
        }
      ]
    },
    {
      "cell_type": "code",
      "metadata": {
        "id": "ORCNfeJqmmCV",
        "colab_type": "code",
        "outputId": "101632c6-73d8-4e7d-815c-3205fce5b4a2",
        "colab": {
          "base_uri": "https://localhost:8080/",
          "height": 34
        }
      },
      "source": [
        "#model1.score( X_test, y_test, sample_weight=None)"
      ],
      "execution_count": 0,
      "outputs": [
        {
          "output_type": "execute_result",
          "data": {
            "text/plain": [
              "0.778263735449705"
            ]
          },
          "metadata": {
            "tags": []
          },
          "execution_count": 51
        }
      ]
    },
    {
      "cell_type": "code",
      "metadata": {
        "id": "8FCL4XAvprlr",
        "colab_type": "code",
        "outputId": "24e67ff5-24e2-4ad6-a3e4-cc13ad9f63a3",
        "colab": {
          "base_uri": "https://localhost:8080/",
          "height": 51
        }
      },
      "source": [
        "model2 = ExtraTreesRegressor(n_estimators=700, random_state=seedNum, n_jobs=cpu_num)\n",
        "model2.fit(X_train, y_train)\n",
        "predictions = model2.predict(X_test)\n",
        "print('RMSE for the model is: ', math.sqrt(mean_squared_error(y_test, predictions)))\n",
        "print('R2 for the model is: ', r2_score(y_test, predictions))"
      ],
      "execution_count": 0,
      "outputs": [
        {
          "output_type": "stream",
          "text": [
            "RMSE for the model is:  1021.8676623609995\n",
            "R2 for the model is:  0.7361550071060395\n"
          ],
          "name": "stdout"
        }
      ]
    },
    {
      "cell_type": "code",
      "metadata": {
        "id": "uhZvdyrV0qgd",
        "colab_type": "code",
        "outputId": "0ec22e5d-3ca1-4cc2-f75a-c59b892aac0a",
        "colab": {
          "base_uri": "https://localhost:8080/",
          "height": 51
        }
      },
      "source": [
        "mode3 = AdaBoostRegressor(n_estimators=200, random_state=seedNum)\n",
        "mode3.fit(X_train, y_train) \n",
        "predictions = mode3.predict(X_test)\n",
        "print('RMSE for the model is: ', math.sqrt(mean_squared_error(y_test, predictions)))\n",
        "print('R2 for the model is: ', r2_score(y_test, predictions))"
      ],
      "execution_count": 0,
      "outputs": [
        {
          "output_type": "stream",
          "text": [
            "RMSE for the model is:  1034.0750860052904\n",
            "R2 for the model is:  0.7298134694105403\n"
          ],
          "name": "stdout"
        }
      ]
    }
  ]
}